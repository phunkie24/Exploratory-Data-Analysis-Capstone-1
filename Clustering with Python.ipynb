{
 "cells": [
  {
   "cell_type": "markdown",
   "id": "c07d9243",
   "metadata": {},
   "source": [
    "# Using K-Means in Python"
   ]
  },
  {
   "cell_type": "code",
   "execution_count": 1,
   "id": "9333165f",
   "metadata": {},
   "outputs": [],
   "source": [
    "%matplotlib inline\n",
    "import numpy as np\n",
    "import pandas as pd\n",
    "import matplotlib.pyplot as plt"
   ]
  },
  {
   "cell_type": "code",
   "execution_count": 3,
   "id": "e28e3bef",
   "metadata": {},
   "outputs": [
    {
     "data": {
      "text/html": [
       "<div>\n",
       "<style scoped>\n",
       "    .dataframe tbody tr th:only-of-type {\n",
       "        vertical-align: middle;\n",
       "    }\n",
       "\n",
       "    .dataframe tbody tr th {\n",
       "        vertical-align: top;\n",
       "    }\n",
       "\n",
       "    .dataframe thead th {\n",
       "        text-align: right;\n",
       "    }\n",
       "</style>\n",
       "<table border=\"1\" class=\"dataframe\">\n",
       "  <thead>\n",
       "    <tr style=\"text-align: right;\">\n",
       "      <th></th>\n",
       "      <th>x</th>\n",
       "      <th>y</th>\n",
       "    </tr>\n",
       "  </thead>\n",
       "  <tbody>\n",
       "    <tr>\n",
       "      <th>0</th>\n",
       "      <td>1</td>\n",
       "      <td>1</td>\n",
       "    </tr>\n",
       "    <tr>\n",
       "      <th>1</th>\n",
       "      <td>2</td>\n",
       "      <td>2</td>\n",
       "    </tr>\n",
       "    <tr>\n",
       "      <th>2</th>\n",
       "      <td>2</td>\n",
       "      <td>3</td>\n",
       "    </tr>\n",
       "    <tr>\n",
       "      <th>3</th>\n",
       "      <td>1</td>\n",
       "      <td>4</td>\n",
       "    </tr>\n",
       "    <tr>\n",
       "      <th>4</th>\n",
       "      <td>3</td>\n",
       "      <td>37</td>\n",
       "    </tr>\n",
       "    <tr>\n",
       "      <th>5</th>\n",
       "      <td>6</td>\n",
       "      <td>8</td>\n",
       "    </tr>\n",
       "    <tr>\n",
       "      <th>6</th>\n",
       "      <td>7</td>\n",
       "      <td>8</td>\n",
       "    </tr>\n",
       "    <tr>\n",
       "      <th>7</th>\n",
       "      <td>6</td>\n",
       "      <td>6</td>\n",
       "    </tr>\n",
       "    <tr>\n",
       "      <th>8</th>\n",
       "      <td>7</td>\n",
       "      <td>9</td>\n",
       "    </tr>\n",
       "    <tr>\n",
       "      <th>9</th>\n",
       "      <td>6</td>\n",
       "      <td>5</td>\n",
       "    </tr>\n",
       "    <tr>\n",
       "      <th>10</th>\n",
       "      <td>2</td>\n",
       "      <td>8</td>\n",
       "    </tr>\n",
       "    <tr>\n",
       "      <th>11</th>\n",
       "      <td>7</td>\n",
       "      <td>9</td>\n",
       "    </tr>\n",
       "    <tr>\n",
       "      <th>12</th>\n",
       "      <td>8</td>\n",
       "      <td>7</td>\n",
       "    </tr>\n",
       "    <tr>\n",
       "      <th>13</th>\n",
       "      <td>6</td>\n",
       "      <td>8</td>\n",
       "    </tr>\n",
       "    <tr>\n",
       "      <th>14</th>\n",
       "      <td>73</td>\n",
       "      <td>1</td>\n",
       "    </tr>\n",
       "    <tr>\n",
       "      <th>15</th>\n",
       "      <td>8</td>\n",
       "      <td>4</td>\n",
       "    </tr>\n",
       "    <tr>\n",
       "      <th>16</th>\n",
       "      <td>8</td>\n",
       "      <td>6</td>\n",
       "    </tr>\n",
       "    <tr>\n",
       "      <th>17</th>\n",
       "      <td>8</td>\n",
       "      <td>9</td>\n",
       "    </tr>\n",
       "  </tbody>\n",
       "</table>\n",
       "</div>"
      ],
      "text/plain": [
       "     x   y\n",
       "0    1   1\n",
       "1    2   2\n",
       "2    2   3\n",
       "3    1   4\n",
       "4    3  37\n",
       "5    6   8\n",
       "6    7   8\n",
       "7    6   6\n",
       "8    7   9\n",
       "9    6   5\n",
       "10   2   8\n",
       "11   7   9\n",
       "12   8   7\n",
       "13   6   8\n",
       "14  73   1\n",
       "15   8   4\n",
       "16   8   6\n",
       "17   8   9"
      ]
     },
     "execution_count": 3,
     "metadata": {},
     "output_type": "execute_result"
    }
   ],
   "source": [
    "data={\n",
    "    'x':[1,2,2,1,3,6,7,6,7,6,2,7,8,6,7,3,8,8,8],\n",
    "    'y':[1,2,3,4,3,7,8,8,6,9,5,8,9,7,8,1,4,6,9]\n",
    "    }\n",
    "df=pd.DataFrame(data)\n",
    "df"
   ]
  },
  {
   "cell_type": "code",
   "execution_count": 12,
   "id": "c6cea09b",
   "metadata": {
    "scrolled": true
   },
   "outputs": [
    {
     "data": {
      "image/png": "[encoded data removed]",
      "text/plain": [
       "<Figure size 640x480 with 1 Axes>"
      ]
     },
     "metadata": {},
     "output_type": "display_data"
    }
   ],
   "source": [
    "import pandas as pd\n",
    "import matplotlib.pyplot as plt\n",
    "\n",
    "data = {\n",
    "    'x': [1,2,2,1,3,6,7,6,7,6,2,7,8,6,7,3,8,8,8],\n",
    "    'y': [1,2,3,4,3,7,8,8,6,9,5,8,9,7,8,1,4,6,9]\n",
    "}\n",
    "\n",
    "df = pd.DataFrame(data)\n",
    "\n",
    "# Scatter plot\n",
    "plt.scatter(df['x'], df['y'], c='r', s=18)\n",
    "plt.xlabel('x')\n",
    "plt.ylabel('y')\n",
    "plt.title('Scatter Plot of Data')\n",
    "plt.show()"
   ]
  },
  {
   "cell_type": "code",
   "execution_count": 11,
   "id": "f626b37b",
   "metadata": {},
   "outputs": [
    {
     "name": "stdout",
     "output_type": "stream",
     "text": [
      "[[2. 8.]\n",
      " [3. 4.]\n",
      " [5. 2.]]\n"
     ]
    },
    {
     "data": {
      "text/plain": [
       "Text(0, 0.5, 'y')"
      ]
     },
     "execution_count": 11,
     "metadata": {},
     "output_type": "execute_result"
    },
    {
     "data": {
      "image/png": "[encoded data removed]",
      "text/plain": [
       "<Figure size 640x480 with 1 Axes>"
      ]
     },
     "metadata": {},
     "output_type": "display_data"
    }
   ],
   "source": [
    "#---let k assume a value---\n",
    "k = 3\n",
    "\n",
    "#---create a matrix containing all points---\n",
    "X = np.array(list(zip(df['x'],df['y'])))\n",
    "\n",
    "#---generate k random points (centroids)---\n",
    "Cx = np.random.randint(np.min(X[:,0]), np.max(X[:,0]), size = k)\n",
    "Cy = np.random.randint(np.min(X[:,1]), np.max(X[:,1]), size = k)\n",
    "\n",
    "#---represent the k centroids as a matrix---\n",
    "C = np.array(list(zip(Cx, Cy)), dtype=np.float64)\n",
    "print(C)\n",
    "\n",
    "#---plot the orginal points as well as the k centroids---\n",
    "plt.scatter(df['x'], df['y'], c='r', s=8)\n",
    "plt.scatter(Cx, Cy, marker='*', c='g', s=160)\n",
    "plt.xlabel(\"x\")\n",
    "plt.ylabel(\"y\")"
   ]
  },
  {
   "cell_type": "markdown",
   "id": "2d6505c0",
   "metadata": {},
   "source": [
    "## K-Means Algorithm"
   ]
  },
  {
   "cell_type": "code",
   "execution_count": 14,
   "id": "932a0a27",
   "metadata": {
    "scrolled": true
   },
   "outputs": [
    {
     "data": {
      "image/png": "[encoded data removed]",
      "text/plain": [
       "<Figure size 640x480 with 1 Axes>"
      ]
     },
     "metadata": {},
     "output_type": "display_data"
    }
   ],
   "source": [
    "import numpy as np\n",
    "import matplotlib.pyplot as plt\n",
    "from copy import deepcopy\n",
    "\n",
    "# ---to calculate the distance between two points---\n",
    "def euclidean_distance(a, b, ax=1):\n",
    "    return np.linalg.norm(a - b, axis=ax)\n",
    "\n",
    "# ---create a matrix of 0 with the same dimension as C (centroids)---\n",
    "C_prev = np.zeros(C.shape)\n",
    "\n",
    "# ---to store the cluster each point belongs to---\n",
    "clusters = np.zeros(len(X))\n",
    "\n",
    "# ---C is the random centroids and C_prev is all 0s---\n",
    "# ---measure the distance between the centroids and C_prev---\n",
    "distance_differences = euclidean_distance(C, C_prev)\n",
    "\n",
    "# ---loop as long as there is still a difference in\n",
    "# distance between the previous and current centroids---\n",
    "while distance_differences.any() != 0:\n",
    "    \n",
    "    # ---assign each value to its closest cluster---\n",
    "    for i in range(len(X)):\n",
    "        distances = euclidean_distance(X[i], C)\n",
    "        \n",
    "        # ---returns the indices of the minimum values along an axis---\n",
    "        cluster = np.argmin(distances)\n",
    "        clusters[i] = cluster\n",
    "\n",
    "    # ---store the prev centroids---\n",
    "    C_prev = deepcopy(C)\n",
    "\n",
    "    # ---find the new centroids by taking the average value---\n",
    "    for i in range(k):  # ---k is the number of clusters---\n",
    "        # ---take all the points in cluster i---\n",
    "        points = [X[j] for j in range(len(X)) if clusters[j] == i]\n",
    "        if len(points) != 0:\n",
    "            C[i] = np.mean(points, axis=0)\n",
    "\n",
    "    # ---find the distances between the old centroids and the new centroids---\n",
    "    distance_differences = euclidean_distance(C, C_prev)\n",
    "\n",
    "# ---plot the scatter plot---\n",
    "colors = ['b', 'r', 'y', 'g', 'c', 'm']\n",
    "for i in range(k):\n",
    "    points = np.array([X[j] for j in range(len(X)) if clusters[j] == i])\n",
    "    if len(points) > 0:\n",
    "        plt.scatter(points[:, 0], points[:, 1], s=10, c=colors[i])\n",
    "    else:\n",
    "        # this means that one of the clusters has no points\n",
    "        print(\"Please regenerate your centroids again.\")\n",
    "\n",
    "plt.scatter(C[:, 0], C[:, 1], marker='*', s=100, c='black')\n",
    "plt.show()"
   ]
  },
  {
   "cell_type": "code",
   "execution_count": 16,
   "id": "efcae342",
   "metadata": {},
   "outputs": [
    {
     "name": "stdout",
     "output_type": "stream",
     "text": [
      "Point [1 1] Cluster 1\n",
      "Point [2 2] Cluster 1\n",
      "Point [2 3] Cluster 1\n",
      "Point [1 4] Cluster 1\n",
      "Point [3 3] Cluster 1\n",
      "Point [6 7] Cluster 0\n",
      "Point [7 8] Cluster 0\n",
      "Point [6 8] Cluster 0\n",
      "Point [7 6] Cluster 2\n",
      "Point [6 9] Cluster 0\n",
      "Point [2 5] Cluster 1\n",
      "Point [7 8] Cluster 0\n",
      "Point [8 9] Cluster 0\n",
      "Point [6 7] Cluster 0\n",
      "Point [7 8] Cluster 0\n",
      "Point [3 1] Cluster 1\n",
      "Point [8 4] Cluster 2\n",
      "Point [8 6] Cluster 2\n",
      "Point [8 9] Cluster 0\n"
     ]
    }
   ],
   "source": [
    "for i, cluster in enumerate(clusters):\n",
    "    print(\"Point \" + str(X[i]), \"Cluster \" + str(int(cluster)))"
   ]
  },
  {
   "cell_type": "code",
   "execution_count": 17,
   "id": "1d0b1438",
   "metadata": {},
   "outputs": [
    {
     "name": "stdout",
     "output_type": "stream",
     "text": [
      "[[6.77777778 8.11111111]\n",
      " [2.         2.71428571]\n",
      " [7.66666667 5.33333333]]\n"
     ]
    }
   ],
   "source": [
    "print(C)"
   ]
  },
  {
   "cell_type": "markdown",
   "id": "a8052f9e",
   "metadata": {},
   "source": [
    "# Using K-Means ic Scikit Learn"
   ]
  },
  {
   "cell_type": "code",
   "execution_count": 28,
   "id": "18d0873f",
   "metadata": {},
   "outputs": [
    {
     "name": "stdout",
     "output_type": "stream",
     "text": [
      "[0 0 0 0 0 1 1 1 2 1 0 1 1 1 1 0 2 2 1]\n",
      "[[2.         2.71428571]\n",
      " [6.77777778 8.11111111]\n",
      " [7.66666667 5.33333333]]\n"
     ]
    }
   ],
   "source": [
    "#---using sci-kit-learn---\n",
    "import warnings\n",
    "from sklearn.cluster import KMeans\n",
    "\n",
    "# Ignore FutureWarning and UserWarning\n",
    "warnings.filterwarnings(\"ignore\", category=FutureWarning)\n",
    "warnings.filterwarnings(\"ignore\", category=UserWarning)\n",
    "\n",
    "from sklearn.cluster import KMeans\n",
    "k=3\n",
    "kmeans = KMeans(n_clusters=k)\n",
    "\n",
    "# training the model\n",
    "kmeans = kmeans.fit(X)\n",
    "labels = kmeans.predict(X)\n",
    "centroids = kmeans.cluster_centers_\n",
    "\n",
    "print(labels)\n",
    "print(centroids)"
   ]
  },
  {
   "cell_type": "code",
   "execution_count": 21,
   "id": "b9ec8fb9",
   "metadata": {},
   "outputs": [
    {
     "data": {
      "text/plain": [
       "<matplotlib.collections.PathCollection at 0x249a267e0e0>"
      ]
     },
     "execution_count": 21,
     "metadata": {},
     "output_type": "execute_result"
    },
    {
     "data": {
      "image/png": "[encoded data removed]",
      "text/plain": [
       "<Figure size 640x480 with 1 Axes>"
      ]
     },
     "metadata": {},
     "output_type": "display_data"
    }
   ],
   "source": [
    "# plot the centroid on a scatter plot\n",
    "\n",
    "#---map the labels to colors---\n",
    "c = ['b','r','y','g','c','m']\n",
    "colors = [c[i] for i in labels]\n",
    "plt.scatter(df['x'],df['y'], c=colors, s=18)\n",
    "plt.scatter(centroids[:, 0], centroids[:, 1], marker='*', s=100, c='black')"
   ]
  },
  {
   "cell_type": "code",
   "execution_count": 22,
   "id": "98cdca79",
   "metadata": {},
   "outputs": [
    {
     "name": "stdout",
     "output_type": "stream",
     "text": [
      "r\n",
      "b\n"
     ]
    }
   ],
   "source": [
    "# Evaluation\n",
    "\n",
    "#---making predictions---\n",
    "cluster = kmeans.predict([[3,4]])[0]\n",
    "print(c[cluster]) \n",
    "cluster = kmeans.predict([[7,5]])[0]\n",
    "print(c[cluster]) "
   ]
  },
  {
   "cell_type": "markdown",
   "id": "b3384902",
   "metadata": {},
   "source": [
    "## Using Sihouette Coefficient"
   ]
  },
  {
   "cell_type": "code",
   "execution_count": 23,
   "id": "a81d683d",
   "metadata": {},
   "outputs": [
    {
     "name": "stdout",
     "output_type": "stream",
     "text": [
      "[0.67534567 0.73722797 0.73455072 0.66254937 0.6323039  0.33332111\n",
      " 0.63792468 0.58821402 0.29141777 0.59137721 0.50802377 0.63792468\n",
      " 0.52511161 0.33332111 0.63792468 0.60168807 0.51664787 0.42831295\n",
      " 0.52511161]\n",
      "Average of Silhouette Coefficients for k = 3\n",
      "============================================\n",
      "Silhouette mean: 0.5578051985195768\n"
     ]
    }
   ],
   "source": [
    "from sklearn import metrics\n",
    "silhouette_samples = metrics.silhouette_samples(X, kmeans.labels_)\n",
    "print(silhouette_samples)\n",
    "print(\"Average of Silhouette Coefficients for k =\", k)\n",
    "print(\"============================================\")\n",
    "print(\"Silhouette mean:\", silhouette_samples.mean())"
   ]
  },
  {
   "cell_type": "code",
   "execution_count": 24,
   "id": "018879e8",
   "metadata": {},
   "outputs": [
    {
     "name": "stdout",
     "output_type": "stream",
     "text": [
      "Silhouette mean: 0.5578051985195768\n"
     ]
    }
   ],
   "source": [
    "# Average Sihouette Coefficient\n",
    "print(\"Silhouette mean:\", metrics.silhouette_score(X, kmeans.labels_))"
   ]
  },
  {
   "cell_type": "markdown",
   "id": "46cf9852",
   "metadata": {},
   "source": [
    "# Finding Optimal K"
   ]
  },
  {
   "cell_type": "code",
   "execution_count": 27,
   "id": "1ff5037a",
   "metadata": {},
   "outputs": [
    {
     "name": "stdout",
     "output_type": "stream",
     "text": [
      "Silhouette Coefficients for k = 2 is 0.6897112069939448\n",
      "Silhouette Coefficients for k = 3 is 0.5578051985195768\n",
      "Silhouette Coefficients for k = 4 is 0.4430381814640289\n",
      "Silhouette Coefficients for k = 5 is 0.4424248576948773\n",
      "Silhouette Coefficients for k = 6 is 0.4202812803017777\n",
      "Silhouette Coefficients for k = 7 is 0.38650416544593347\n",
      "Silhouette Coefficients for k = 8 is 0.459039364508135\n",
      "Silhouette Coefficients for k = 9 is 0.44437330649476303\n",
      "Silhouette Coefficients for k = 10 is 0.5045189355982561\n",
      "Silhouette Coefficients for k = 11 is 0.4695564671186216\n",
      "Silhouette Coefficients for k = 12 is 0.4409831398126504\n",
      "Silhouette Coefficients for k = 13 is 0.4255677072435213\n",
      "Silhouette Coefficients for k = 14 is 0.383836485200708\n",
      "Silhouette Coefficients for k = 15 is 0.3684210526315789\n",
      "Silhouette Coefficients for k = 16 is 0.3684210526315789\n",
      "Silhouette Coefficients for k = 17 is 0.3684210526315789\n",
      "Silhouette Coefficients for k = 18 is 0.3684210526315789\n",
      "Optimal K is 2\n"
     ]
    },
    {
     "data": {
      "image/png": "[encoded data removed]",
      "text/plain": [
       "<Figure size 700x500 with 1 Axes>"
      ]
     },
     "metadata": {},
     "output_type": "display_data"
    }
   ],
   "source": [
    "import warnings\n",
    "from sklearn.cluster import KMeans\n",
    "\n",
    "# Ignore FutureWarning and UserWarning\n",
    "warnings.filterwarnings(\"ignore\", category=FutureWarning)\n",
    "warnings.filterwarnings(\"ignore\", category=UserWarning)\n",
    "\n",
    "silhouette_avgs = []\n",
    "min_k = 2\n",
    "\n",
    "# ---try k from 2 to the maximum number of labels---\n",
    "for k in range(min_k, len(X)):\n",
    "    kmean = KMeans(n_clusters=k).fit(X)\n",
    "    score = metrics.silhouette_score(X, kmean.labels_)\n",
    "    print(\"Silhouette Coefficients for k =\", k, \"is\", score)\n",
    "    silhouette_avgs.append(score)\n",
    "\n",
    "# ---plotting the Silhouette Coefficients---\n",
    "f, ax = plt.subplots(figsize=(7, 5))\n",
    "ax.plot(range(min_k, len(X)), silhouette_avgs)\n",
    "plt.xlabel(\"Number of clusters\")\n",
    "plt.ylabel(\"Silhouette Coefficients\")\n",
    "\n",
    "# ---the optimal k is the one with the highest average silhouette---\n",
    "Optimal_K = silhouette_avgs.index(max(silhouette_avgs)) + min_k\n",
    "print(\"Optimal K is\", Optimal_K)"
   ]
  },
  {
   "cell_type": "code",
   "execution_count": null,
   "id": "d2caade9",
   "metadata": {},
   "outputs": [],
   "source": []
  },
  {
   "cell_type": "code",
   "execution_count": null,
   "id": "346ba337",
   "metadata": {},
   "outputs": [],
   "source": []
  }
 ],
 "metadata": {
  "kernelspec": {
   "display_name": "Python 3 (ipykernel)",
   "language": "python",
   "name": "python3"
  },
  "language_info": {
   "codemirror_mode": {
    "name": "ipython",
    "version": 3
   },
   "file_extension": ".py",
   "mimetype": "text/x-python",
   "name": "python",
   "nbconvert_exporter": "python",
   "pygments_lexer": "ipython3",
   "version": "3.10.9"
  }
 },
 "nbformat": 4,
 "nbformat_minor": 5
}
