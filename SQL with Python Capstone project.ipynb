{
 "cells": [
  {
   "cell_type": "markdown",
   "id": "bbfa52d6",
   "metadata": {},
   "source": [
    "# Python and SQL"
   ]
  },
  {
   "cell_type": "code",
   "execution_count": 11,
   "id": "8486431b",
   "metadata": {
    "scrolled": true
   },
   "outputs": [
    {
     "name": "stdout",
     "output_type": "stream",
     "text": [
      "('2010-06-04', '18:45:00', 'F9 v1.0  B0003', 'CCAFS LC-40', 'Dragon Spacecraft Qualification Unit', 0, 'LEO', 'SpaceX', 'Success', 'Failure (parachute)')\n",
      "('2010-12-08', '15:43:00', 'F9 v1.0  B0004', 'CCAFS LC-40', 'Dragon demo flight C1, two CubeSats, barrel of Brouere cheese', 0, 'LEO (ISS)', 'NASA (COTS) NRO', 'Success', 'Failure (parachute)')\n",
      "('2012-05-22', '7:44:00', 'F9 v1.0  B0005', 'CCAFS LC-40', 'Dragon demo flight C2', 525, 'LEO (ISS)', 'NASA (COTS)', 'Success', 'No attempt')\n",
      "('2012-10-08', '0:35:00', 'F9 v1.0  B0006', 'CCAFS LC-40', 'SpaceX CRS-1', 500, 'LEO (ISS)', 'NASA (CRS)', 'Success', 'No attempt')\n",
      "('2013-03-01', '15:10:00', 'F9 v1.0  B0007', 'CCAFS LC-40', 'SpaceX CRS-2', 677, 'LEO (ISS)', 'NASA (CRS)', 'Success', 'No attempt')\n"
     ]
    }
   ],
   "source": [
    "import pandas as pd\n",
    "import sqlite3\n",
    "\n",
    "# Read the CSV data\n",
    "df = pd.read_csv(\"https://cf-courses-data.s3.us.cloud-object-storage.appdomain.cloud/IBM-DS0321EN-SkillsNetwork/labs/module_2/data/Spacex.csv\")\n",
    "\n",
    "# Create a SQLite connection\n",
    "conn = sqlite3.connect('spacex.db')\n",
    "\n",
    "# Write the DataFrame to a SQLite table\n",
    "df.to_sql(\"SPACEXTBL\", conn, if_exists='replace', index=False, method=\"multi\")\n",
    "\n",
    "# Create a cursor object to execute SQL queries\n",
    "cursor = conn.cursor()\n",
    "\n",
    "# Example SQL query\n",
    "cursor.execute('SELECT * FROM SPACEXTBL LIMIT 5')\n",
    "\n",
    "# Fetch and display the results\n",
    "rows = cursor.fetchall()\n",
    "for row in rows:\n",
    "    print(row)\n",
    "\n",
    "# Close the cursor and connection\n",
    "cursor.close()\n",
    "conn.close()"
   ]
  },
  {
   "cell_type": "code",
   "execution_count": 12,
   "id": "de03b177",
   "metadata": {},
   "outputs": [
    {
     "name": "stdout",
     "output_type": "stream",
     "text": [
      "Date\n",
      "Time (UTC)\n",
      "Booster_Version\n",
      "Launch_Site\n",
      "Payload\n",
      "PAYLOAD_MASS__KG_\n",
      "Orbit\n",
      "Customer\n",
      "Mission_Outcome\n",
      "Landing_Outcome\n"
     ]
    }
   ],
   "source": [
    "import sqlite3\n",
    "\n",
    "# Create a SQLite connection\n",
    "conn = sqlite3.connect('spacex.db')\n",
    "\n",
    "# Create a cursor object to execute SQL queries\n",
    "cursor = conn.cursor()\n",
    "\n",
    "# Get the column names from the table\n",
    "query = 'PRAGMA table_info(SPACEXTBL)'\n",
    "cursor.execute(query)\n",
    "\n",
    "# Fetch and display the column names\n",
    "columns = cursor.fetchall()\n",
    "for column in columns:\n",
    "    print(column[1])\n",
    "\n",
    "# Close the cursor and connection\n",
    "cursor.close()\n",
    "conn.close()"
   ]
  },
  {
   "cell_type": "markdown",
   "id": "01d40265",
   "metadata": {},
   "source": [
    "# Task 1"
   ]
  },
  {
   "cell_type": "code",
   "execution_count": 14,
   "id": "2bac727e",
   "metadata": {},
   "outputs": [
    {
     "name": "stdout",
     "output_type": "stream",
     "text": [
      "CCAFS LC-40\n",
      "VAFB SLC-4E\n",
      "KSC LC-39A\n",
      "CCAFS SLC-40\n"
     ]
    }
   ],
   "source": [
    "# Create a SQLite connection\n",
    "conn = sqlite3.connect('spacex.db')\n",
    "\n",
    "# Create a cursor object to execute SQL queries\n",
    "cursor = conn.cursor()\n",
    "\n",
    "# SQL query to retrieve unique launch sites\n",
    "query = 'SELECT DISTINCT Launch_Site FROM SPACEXTBL'\n",
    "\n",
    "# Execute the query\n",
    "cursor.execute(query)\n",
    "\n",
    "# Fetch and display the results\n",
    "launch_sites = cursor.fetchall()\n",
    "for site in launch_sites:\n",
    "    print(site[0])\n",
    "\n",
    "# Close the cursor and connection\n",
    "cursor.close()\n",
    "conn.close()"
   ]
  },
  {
   "cell_type": "markdown",
   "id": "da451be8",
   "metadata": {},
   "source": [
    "# Task 2"
   ]
  },
  {
   "cell_type": "code",
   "execution_count": 21,
   "id": "a1b9b15a",
   "metadata": {},
   "outputs": [
    {
     "name": "stdout",
     "output_type": "stream",
     "text": [
      "         Date Time (UTC) Booster_Version  Launch_Site  \\\n",
      "0  2010-06-04   18:45:00  F9 v1.0  B0003  CCAFS LC-40   \n",
      "1  2010-12-08   15:43:00  F9 v1.0  B0004  CCAFS LC-40   \n",
      "2  2012-05-22    7:44:00  F9 v1.0  B0005  CCAFS LC-40   \n",
      "3  2012-10-08    0:35:00  F9 v1.0  B0006  CCAFS LC-40   \n",
      "4  2013-03-01   15:10:00  F9 v1.0  B0007  CCAFS LC-40   \n",
      "\n",
      "                                             Payload  PAYLOAD_MASS__KG_  \\\n",
      "0               Dragon Spacecraft Qualification Unit                  0   \n",
      "1  Dragon demo flight C1, two CubeSats, barrel of...                  0   \n",
      "2                              Dragon demo flight C2                525   \n",
      "3                                       SpaceX CRS-1                500   \n",
      "4                                       SpaceX CRS-2                677   \n",
      "\n",
      "       Orbit         Customer Mission_Outcome      Landing_Outcome  \n",
      "0        LEO           SpaceX         Success  Failure (parachute)  \n",
      "1  LEO (ISS)  NASA (COTS) NRO         Success  Failure (parachute)  \n",
      "2  LEO (ISS)      NASA (COTS)         Success           No attempt  \n",
      "3  LEO (ISS)       NASA (CRS)         Success           No attempt  \n",
      "4  LEO (ISS)       NASA (CRS)         Success           No attempt  \n"
     ]
    }
   ],
   "source": [
    "# Create a SQLite connection\n",
    "conn = sqlite3.connect('spacex.db')\n",
    "\n",
    "# SQL query to retrieve 5 records where launch sites begin with 'CCA'\n",
    "query = \"SELECT * FROM SPACEXTBL WHERE Launch_Site LIKE 'CCA%' LIMIT 5\"\n",
    "\n",
    "# Execute the query and load the results into a DataFrame\n",
    "df = pd.read_sql_query(query, conn)\n",
    "\n",
    "# Display the DataFrame\n",
    "print(df)\n",
    "\n",
    "# Close the connection\n",
    "conn.close()"
   ]
  },
  {
   "cell_type": "markdown",
   "id": "7187a4b0",
   "metadata": {},
   "source": [
    "# Task 3"
   ]
  },
  {
   "cell_type": "code",
   "execution_count": 19,
   "id": "fb047786",
   "metadata": {},
   "outputs": [
    {
     "name": "stdout",
     "output_type": "stream",
     "text": [
      "    Launch_Site  TotalPayloadMass\n",
      "0   CCAFS LC-40             17327\n",
      "1  CCAFS SLC-40             16789\n",
      "2    KSC LC-39A             11480\n"
     ]
    }
   ],
   "source": [
    "# Create a SQLite connection\n",
    "conn = sqlite3.connect('spacex.db')\n",
    "\n",
    "# SQL query to calculate the total payload mass for NASA (CRS) launches\n",
    "query = '''\n",
    "    SELECT Launch_Site, SUM(PAYLOAD_MASS__KG_) as TotalPayloadMass\n",
    "    FROM SPACEXTBL\n",
    "    WHERE Customer = 'NASA (CRS)'\n",
    "    GROUP BY Launch_Site\n",
    "'''\n",
    "\n",
    "# Execute the query and load the results into a DataFrame\n",
    "df = pd.read_sql_query(query, conn)\n",
    "\n",
    "# Display the DataFrame\n",
    "print(df)\n",
    "\n",
    "# Close the connection\n",
    "conn.close()"
   ]
  },
  {
   "cell_type": "markdown",
   "id": "eb8fec52",
   "metadata": {},
   "source": [
    "# Task 4"
   ]
  },
  {
   "cell_type": "code",
   "execution_count": 22,
   "id": "37eb0820",
   "metadata": {},
   "outputs": [
    {
     "name": "stdout",
     "output_type": "stream",
     "text": [
      "  Booster_Version  AveragePayloadMass\n",
      "0         F9 v1.1              2928.4\n"
     ]
    }
   ],
   "source": [
    "import sqlite3\n",
    "import pandas as pd\n",
    "\n",
    "# Create a SQLite connection\n",
    "conn = sqlite3.connect('spacex.db')\n",
    "\n",
    "# SQL query to calculate the average payload mass for booster version F9 v1.1\n",
    "query = '''\n",
    "    SELECT Booster_Version, AVG(PAYLOAD_MASS__KG_) as AveragePayloadMass\n",
    "    FROM SPACEXTBL\n",
    "    WHERE Booster_Version = 'F9 v1.1'\n",
    "    GROUP BY Booster_Version\n",
    "'''\n",
    "\n",
    "# Execute the query and load the results into a DataFrame\n",
    "df = pd.read_sql_query(query, conn)\n",
    "\n",
    "# Display the DataFrame\n",
    "print(df)\n",
    "\n",
    "# Close the connection\n",
    "conn.close()"
   ]
  },
  {
   "cell_type": "markdown",
   "id": "97d88178",
   "metadata": {},
   "source": [
    "# Task 5"
   ]
  },
  {
   "cell_type": "code",
   "execution_count": 24,
   "id": "787b1a8b",
   "metadata": {},
   "outputs": [
    {
     "name": "stdout",
     "output_type": "stream",
     "text": [
      "Date of the first successful landing on a ground pad: 2018-07-22\n"
     ]
    }
   ],
   "source": [
    "# Create a SQLite connection\n",
    "conn = sqlite3.connect('spacex.db')\n",
    "\n",
    "# Create a cursor object to execute SQL queries\n",
    "cursor = conn.cursor()\n",
    "\n",
    "# SQL query to find the date of the first successful landing on a ground pad\n",
    "query = '''\n",
    "    SELECT MIN(Date) as FirstSuccessfulLandingDate\n",
    "    FROM SPACEXTBL\n",
    "    WHERE Landing_Outcome = 'Success' AND Launch_Site IS NOT NULL\n",
    "'''\n",
    "\n",
    "# Execute the query\n",
    "cursor.execute(query)\n",
    "\n",
    "# Fetch and display the result\n",
    "result = cursor.fetchone()\n",
    "print(\"Date of the first successful landing on a ground pad:\", result[0])\n",
    "\n",
    "# Close the cursor and connection\n",
    "cursor.close()\n",
    "conn.close()"
   ]
  },
  {
   "cell_type": "markdown",
   "id": "cce63d47",
   "metadata": {},
   "source": [
    "# Task 6"
   ]
  },
  {
   "cell_type": "code",
   "execution_count": 36,
   "id": "10ba2313",
   "metadata": {},
   "outputs": [],
   "source": [
    "# Create a SQLite connection\n",
    "conn = sqlite3.connect('spacex.db')\n",
    "\n",
    "# Create a cursor object to execute SQL queries\n",
    "cursor = conn.cursor()\n",
    "\n",
    "# SQL query to find the names of boosters with successful drone ship landing\n",
    "# and payload mass between 4000 and 6000\n",
    "query = '''\n",
    "    SELECT Booster_Version\n",
    "    FROM SPACEXTBL\n",
    "    WHERE Landing_Outcome = 'Success' \n",
    "        AND Booster_Version = 'Drone Ship' \n",
    "        AND PAYLOAD_MASS__KG_ BETWEEN 4000 AND 6000\n",
    "'''\n",
    "\n",
    "# Execute the query\n",
    "cursor.execute(query)\n",
    "\n",
    "# Fetch and display the results\n",
    "boosters = cursor.fetchall()\n",
    "for booster in boosters:\n",
    "    print(booster[0])\n",
    "\n",
    "# Close the cursor and connection\n",
    "cursor.close()\n",
    "conn.close()"
   ]
  },
  {
   "cell_type": "markdown",
   "id": "d443af55",
   "metadata": {},
   "source": [
    "# Task 7"
   ]
  },
  {
   "cell_type": "code",
   "execution_count": 28,
   "id": "1750e6c7",
   "metadata": {},
   "outputs": [
    {
     "name": "stdout",
     "output_type": "stream",
     "text": [
      "Failure (in flight): 1\n",
      "Success: 98\n",
      "Success : 1\n",
      "Success (payload status unclear): 1\n"
     ]
    }
   ],
   "source": [
    "import sqlite3\n",
    "\n",
    "# Create a SQLite connection\n",
    "conn = sqlite3.connect('spacex.db')\n",
    "\n",
    "# Create a cursor object to execute SQL queries\n",
    "cursor = conn.cursor()\n",
    "\n",
    "# SQL query to count the number of successful and failure mission outcomes\n",
    "query = '''\n",
    "    SELECT Mission_Outcome, COUNT(*) as Count\n",
    "    FROM SPACEXTBL\n",
    "    GROUP BY Mission_Outcome\n",
    "'''\n",
    "\n",
    "# Execute the query\n",
    "cursor.execute(query)\n",
    "\n",
    "# Fetch and display the results\n",
    "results = cursor.fetchall()\n",
    "for result in results:\n",
    "    print(f\"{result[0]}: {result[1]}\")\n",
    "\n",
    "# Close the cursor and connection\n",
    "cursor.close()\n",
    "conn.close()"
   ]
  },
  {
   "cell_type": "markdown",
   "id": "e768c008",
   "metadata": {},
   "source": [
    "# Task 8"
   ]
  },
  {
   "cell_type": "code",
   "execution_count": 32,
   "id": "eec1b8c1",
   "metadata": {},
   "outputs": [
    {
     "name": "stdout",
     "output_type": "stream",
     "text": [
      "F9 B5 B1048.4\n",
      "F9 B5 B1049.4\n",
      "F9 B5 B1051.3\n",
      "F9 B5 B1056.4\n",
      "F9 B5 B1048.5\n",
      "F9 B5 B1051.4\n",
      "F9 B5 B1049.5\n",
      "F9 B5 B1060.2 \n",
      "F9 B5 B1058.3 \n",
      "F9 B5 B1051.6\n",
      "F9 B5 B1060.3\n",
      "F9 B5 B1049.7 \n"
     ]
    }
   ],
   "source": [
    "# Create a SQLite connection\n",
    "conn = sqlite3.connect('spacex.db')\n",
    "\n",
    "# Create a cursor object to execute SQL queries\n",
    "cursor = conn.cursor()\n",
    "\n",
    "# SQL query with a subquery to find booster_versions with the maximum payload mass\n",
    "query = '''\n",
    "    SELECT Booster_Version\n",
    "    FROM SPACEXTBL\n",
    "    WHERE PAYLOAD_MASS__KG_ = (SELECT MAX(PAYLOAD_MASS__KG_) FROM SPACEXTBL)\n",
    "'''\n",
    "\n",
    "# Execute the query\n",
    "cursor.execute(query)\n",
    "\n",
    "# Fetch and display the results\n",
    "booster_versions = cursor.fetchall()\n",
    "for booster_version in booster_versions:\n",
    "    print(booster_version[0])\n",
    "\n",
    "# Close the cursor and connection\n",
    "cursor.close()\n",
    "conn.close()"
   ]
  },
  {
   "cell_type": "markdown",
   "id": "aae570cd",
   "metadata": {},
   "source": [
    "# Task 9"
   ]
  },
  {
   "cell_type": "code",
   "execution_count": 37,
   "id": "c19dde68",
   "metadata": {},
   "outputs": [],
   "source": [
    "# Create a SQLite connection\n",
    "conn = sqlite3.connect('spacex.db')\n",
    "\n",
    "# Create a cursor object to execute SQL queries\n",
    "cursor = conn.cursor()\n",
    "\n",
    "# SQL query to retrieve records for failure landing outcomes in drone ship for the year 2015\n",
    "query = '''\n",
    "    SELECT \n",
    "        substr(Date, 6, 2) as Month,\n",
    "        Launch_Site,\n",
    "        Booster_Version,\n",
    "        Landing_Outcome\n",
    "    FROM SPACEXTBL\n",
    "    WHERE substr(Date, 0, 5) = '2015'\n",
    "        AND Landing_Outcome = 'Failure'\n",
    "        AND Booster_Version = 'Drone Ship'\n",
    "'''\n",
    "\n",
    "# Execute the query\n",
    "cursor.execute(query)\n",
    "\n",
    "# Fetch and display the results\n",
    "records = cursor.fetchall()\n",
    "for record in records:\n",
    "    print(record)\n",
    "\n",
    "# Close the cursor and connection\n",
    "cursor.close()\n",
    "conn.close()"
   ]
  },
  {
   "cell_type": "markdown",
   "id": "34e4f18d",
   "metadata": {},
   "source": [
    "# Task 10"
   ]
  },
  {
   "cell_type": "code",
   "execution_count": 38,
   "id": "ee13365d",
   "metadata": {},
   "outputs": [
    {
     "name": "stdout",
     "output_type": "stream",
     "text": [
      "No attempt: 10\n",
      "Success (drone ship): 5\n",
      "Failure (drone ship): 5\n",
      "Success (ground pad): 3\n",
      "Controlled (ocean): 3\n",
      "Uncontrolled (ocean): 2\n",
      "Failure (parachute): 2\n",
      "Precluded (drone ship): 1\n"
     ]
    }
   ],
   "source": [
    "import sqlite3\n",
    "\n",
    "# Create a SQLite connection\n",
    "conn = sqlite3.connect('spacex.db')\n",
    "\n",
    "# Create a cursor object to execute SQL queries\n",
    "cursor = conn.cursor()\n",
    "\n",
    "# SQL query to rank the count of landing outcomes between specified dates\n",
    "query = '''\n",
    "    SELECT\n",
    "        Landing_Outcome,\n",
    "        COUNT(*) as OutcomeCount\n",
    "    FROM SPACEXTBL\n",
    "    WHERE Date BETWEEN '2010-06-04' AND '2017-03-20'\n",
    "    GROUP BY Landing_Outcome\n",
    "    ORDER BY OutcomeCount DESC\n",
    "'''\n",
    "\n",
    "# Execute the query\n",
    "cursor.execute(query)\n",
    "\n",
    "# Fetch and display the results\n",
    "records = cursor.fetchall()\n",
    "for record in records:\n",
    "    print(f\"{record[0]}: {record[1]}\")\n",
    "\n",
    "# Close the cursor and connection\n",
    "cursor.close()\n",
    "conn.close()"
   ]
  },
  {
   "cell_type": "code",
   "execution_count": null,
   "id": "a9d866b3",
   "metadata": {},
   "outputs": [],
   "source": []
  }
 ],
 "metadata": {
  "kernelspec": {
   "display_name": "Python 3 (ipykernel)",
   "language": "python",
   "name": "python3"
  },
  "language_info": {
   "codemirror_mode": {
    "name": "ipython",
    "version": 3
   },
   "file_extension": ".py",
   "mimetype": "text/x-python",
   "name": "python",
   "nbconvert_exporter": "python",
   "pygments_lexer": "ipython3",
   "version": "3.10.9"
  }
 },
 "nbformat": 4,
 "nbformat_minor": 5
}
